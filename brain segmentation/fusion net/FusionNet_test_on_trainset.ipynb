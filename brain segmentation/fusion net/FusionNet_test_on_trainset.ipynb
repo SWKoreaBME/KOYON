{
 "cells": [
  {
   "cell_type": "code",
   "execution_count": 1,
   "metadata": {},
   "outputs": [
    {
     "name": "stderr",
     "output_type": "stream",
     "text": [
      "/home/ccids-sw/anaconda3/envs/testenv/lib/python3.5/site-packages/dicom/__init__.py:53: UserWarning: \n",
      "This code is using an older version of pydicom, which is no longer \n",
      "maintained as of Jan 2017.  You can access the new pydicom features and API \n",
      "by installing `pydicom` from PyPI.\n",
      "See 'Transitioning to pydicom 1.x' section at pydicom.readthedocs.org \n",
      "for more information.\n",
      "\n",
      "  warnings.warn(msg)\n"
     ]
    }
   ],
   "source": [
    "import torch\n",
    "from FusionNet import FusionGenerator\n",
    "from model_utils_sw import MaskToBinary, DiceCoefficient\n",
    "\n",
    "from torchvision import transforms\n",
    "import torchvision.utils as v_utils\n",
    "from torch.autograd import Variable\n",
    "import scipy.misc\n",
    "\n",
    "import os\n",
    "import numpy as np\n",
    "from PIL import Image\n",
    "\n",
    "#=====================\n",
    "# hyperparameter\n",
    "INPUT_SIZE=256\n",
    "#=====================\n",
    "\n",
    "#=====================\n",
    "# functions to use\n",
    "# 1. image2tensor\n",
    "\n",
    "#=====================\n",
    "def image2tensor(img, cuda=False):\n",
    "    img_array=np.asarray(img)\n",
    "    img_array=np.expand_dims(np.expand_dims(img_array, 0), 0)\n",
    "    if cuda:\n",
    "        img_array=torch.Tensor(img_array).cuda()\n",
    "    else:\n",
    "        img_array=torch.Tensor(img_array)\n",
    "    return img_array\n",
    "\n",
    "#=====================\n",
    "\n",
    "# load model\n",
    "# model=FusionGenerator(input_nc=1, output_nc=1, ngf=32)\n",
    "# model.load_state_dict(torch.load('./FusionNet.pkl'))\n",
    "model=torch.load('./FusionNet.pkl').cuda()\n",
    "\n",
    "# get data path and load data\n",
    "original_dir='../train_original/'\n",
    "mask_dir='../train_masks_original/'\n",
    "save_dir='../train_gen_256/'\n",
    "# save_dir='./save_test/'\n",
    "save_label_dir='../train_masks_256/'\n",
    "save_resize_origin_dir='../train_original_256/'\n",
    "\n",
    "subjects=os.listdir(original_dir)"
   ]
  },
  {
   "cell_type": "code",
   "execution_count": 2,
   "metadata": {
    "scrolled": true
   },
   "outputs": [
    {
     "name": "stderr",
     "output_type": "stream",
     "text": [
      "/home/ccids-sw/anaconda3/envs/testenv/lib/python3.5/site-packages/ipykernel_launcher.py:34: DeprecationWarning: `imsave` is deprecated!\n",
      "`imsave` is deprecated in SciPy 1.0.0, and will be removed in 1.2.0.\n",
      "Use ``imageio.imwrite`` instead.\n",
      "/home/ccids-sw/anaconda3/envs/testenv/lib/python3.5/site-packages/ipykernel_launcher.py:41: DeprecationWarning: `imsave` is deprecated!\n",
      "`imsave` is deprecated in SciPy 1.0.0, and will be removed in 1.2.0.\n",
      "Use ``imageio.imwrite`` instead.\n",
      "/home/ccids-sw/anaconda3/envs/testenv/lib/python3.5/site-packages/ipykernel_launcher.py:47: DeprecationWarning: `imsave` is deprecated!\n",
      "`imsave` is deprecated in SciPy 1.0.0, and will be removed in 1.2.0.\n",
      "Use ``imageio.imwrite`` instead.\n",
      "/home/ccids-sw/Brain_segmentation/FusionNet-Pytorch/model_utils_sw.py:33: RuntimeWarning: invalid value encountered in double_scalars\n",
      "  dice = np.sum(pred[gt == k] == k) * 2.0 / (np.sum(pred[pred == k] == k) + np.sum(gt[gt == k] == k))\n"
     ]
    },
    {
     "name": "stdout",
     "output_type": "stream",
     "text": [
      "dice score for 5233369 : nan\n",
      "dice score for 5643165 : nan\n",
      "dice score for 8085539 : nan\n",
      "dice score for 7513852 : nan\n",
      "dice score for 7654630 : nan\n",
      "dice score for 5235750 : nan\n",
      "dice score for 7368360 : nan\n",
      "dice score for 2479047 : nan\n",
      "dice score for 5408861 : nan\n",
      "dice score for 5208895 : nan\n",
      "dice score for 8354455 : nan\n",
      "dice score for 5329449 : nan\n",
      "dice score for 7354779 : nan\n",
      "dice score for 5659614 : nan\n",
      "dice score for 8089857 : nan\n",
      "dice score for 8463790 : nan\n",
      "dice score for 8262421 : nan\n",
      "dice score for 8028376 : nan\n",
      "dice score for 8064434 : nan\n",
      "dice score for 7842502 : nan\n",
      "dice score for 7354190 : nan\n",
      "dice score for 4334564 : nan\n",
      "dice score for 7522152 : nan\n",
      "dice score for 2595099 : nan\n",
      "dice score for 2659261 : nan\n",
      "dice score for 8078358 : nan\n",
      "dice score for 5992119 : nan\n",
      "dice score for 8351755 : nan\n",
      "dice score for 7746738 : nan\n",
      "dice score for 8518093 : nan\n",
      "dice score for 3938641 : nan\n",
      "dice score for 7459615 : nan\n",
      "dice score for 5319033 : nan\n",
      "dice score for 7753977 : nan\n",
      "dice score for 8256132 : nan\n",
      "dice score for 4413737 : nan\n",
      "dice score for 5560825 : nan\n",
      "dice score for 5166832 : nan\n",
      "dice score for 1371892 : nan\n",
      "dice score for 5715068 : nan\n",
      "dice score for 7845251 : nan\n",
      "dice score for 7946503 : nan\n",
      "dice score for 8011358 : nan\n",
      "dice score for 7415095 : nan\n",
      "dice score for 5368201 : nan\n",
      "dice score for 5588560 : nan\n",
      "dice score for 7504011 : nan\n",
      "dice score for 5184971 : nan\n",
      "dice score for 7386727 : nan\n",
      "dice score for 4331755 : nan\n",
      "dice score for 8220926 : nan\n",
      "dice score for 7731464 : nan\n",
      "dice score for 8229739 : nan\n",
      "dice score for 5222508 : nan\n",
      "dice score for 5786435 : nan\n",
      "dice score for 7863907 : nan\n",
      "dice score for 2034571 : nan\n",
      "dice score for 7592613 : nan\n",
      "dice score for 8568702 : nan\n",
      "dice score for 8485609 : nan\n",
      "dice score for 5199303 : nan\n",
      "dice score for 7955082 : nan\n",
      "dice score for 6597378 : nan\n",
      "dice score for 8037487 : nan\n",
      "dice score for 8214065 : nan\n",
      "dice score for 7439815 : nan\n",
      "dice score for 7677983 : nan\n",
      "dice score for 7821391 : nan\n",
      "dice score for 8571328 : nan\n",
      "dice score for 7760652 : nan\n",
      "dice score for 8082756 : nan\n",
      "dice score for 8255367 : nan\n",
      "dice score for 2561276 : nan\n",
      "dice score for 5111647 : nan\n",
      "dice score for 3692092 : nan\n",
      "dice score for 5533514 : nan\n",
      "dice score for 8060512 : nan\n",
      "dice score for 8313277 : nan\n",
      "dice score for 8236585 : nan\n",
      "dice score for 7926232 : nan\n",
      "dice score for 8352078 : nan\n",
      "dice score for 8486052 : nan\n",
      "dice score for 5390880 : nan\n",
      "dice score for 7606928 : nan\n",
      "dice score for 8294589 : nan\n",
      "dice score for 8164554 : nan\n",
      "dice score for 8491797 : nan\n",
      "dice score for 8018918 : nan\n",
      "dice score for 7432750 : nan\n",
      "dice score for 8483143 : nan\n",
      "dice score for 5264710 : nan\n",
      "dice score for 7707348 : nan\n",
      "dice score for 6594875 : nan\n",
      "dice score for 7630601 : nan\n",
      "dice score for 2174093 : nan\n",
      "dice score for 2917442 : nan\n",
      "dice score for 2602057 : nan\n",
      "dice score for 5343140 : nan\n",
      "dice score for 3263248 : nan\n",
      "dice score for 5494150 : nan\n",
      "dice score for 2530541 : nan\n",
      "dice score for 7031484 : nan\n",
      "dice score for 6847146 : nan\n",
      "dice score for 7732014 : nan\n",
      "dice score for 2545167 : nan\n",
      "dice score for 7884200 : nan\n",
      "dice score for 3893850 : nan\n",
      "dice score for 5568175 : nan\n",
      "dice score for 5336219 : nan\n"
     ]
    }
   ],
   "source": [
    "# pass through pre-trained model and save image to directory\n",
    "\n",
    "for subject in subjects:\n",
    "    dice_sum=0; k=0\n",
    "    images=os.listdir(os.path.join(original_dir, subject))\n",
    "    for i, image in enumerate(images):\n",
    "        \n",
    "        # get one image\n",
    "        one_img=os.path.join(original_dir, subject, image)\n",
    "        \n",
    "        #resizing image\n",
    "        one_img=Image.open(one_img)\n",
    "        one_img=one_img.resize((INPUT_SIZE, INPUT_SIZE))\n",
    "        \n",
    "        #change to pytorch tensor\n",
    "        one_img=image2tensor(one_img, cuda=True)\n",
    "        \n",
    "        #pass through model\n",
    "        result_img=model(one_img)\n",
    "        \n",
    "        # if there isn't subjecy dir in save dir, make directory for subject\n",
    "        if not os.path.exists(os.path.join(save_dir, subject)):\n",
    "            os.mkdir(os.path.join(save_dir, subject))\n",
    "            \n",
    "        if not os.path.exists(os.path.join(save_label_dir, subject)):\n",
    "            os.mkdir(os.path.join(save_label_dir, subject))\n",
    "            \n",
    "        if not os.path.exists(os.path.join(save_resize_origin_dir, subject)):\n",
    "            os.mkdir(os.path.join(save_resize_origin_dir, subject))\n",
    "            \n",
    "        # change to numpy array again and save to suitable folder\n",
    "        result_array=MaskToBinary(np.asarray(result_img[0].cpu().data))\n",
    "        image_save_path=os.path.join(save_dir, subject, image)\n",
    "        scipy.misc.imsave(image_save_path, result_array[0])\n",
    "        \n",
    "        # open mask file and calculate dice score\n",
    "        # resize label image and save\n",
    "        label_img=Image.open(os.path.join(mask_dir, subject, image)).resize((INPUT_SIZE, INPUT_SIZE))\n",
    "        label_array=np.asarray(label_img)\n",
    "        mask_save_path=os.path.join(save_label_dir, subject, image)\n",
    "        scipy.misc.imsave(mask_save_path, label_array)\n",
    "        \n",
    "        # resize original image and save\n",
    "        origin_img=Image.open(os.path.join(original_dir, subject, image)).resize((INPUT_SIZE, INPUT_SIZE))\n",
    "        origin_array=np.asarray(origin_img)\n",
    "        origin_save_path=os.path.join(save_resize_origin_dir, subject, image)\n",
    "        scipy.misc.imsave(origin_save_path, origin_array)\n",
    "        \n",
    "        if result_array[0].shape != label_array.shape:\n",
    "            print('Size mismatch label image size -- {}, result image size -- {} try again!'.format(label_array.shape,result_array[0].shape))\n",
    "\n",
    "        dice_score=DiceCoefficient(np.expand_dims(label_array,0),  result_array)\n",
    "#         print(image, dice_score)\n",
    "        if dice_score != 0.0:\n",
    "            dice_sum+=dice_score\n",
    "            k += 1\n",
    "    print('dice score for {} : {}'.format(subject, dice_sum / k ))\n",
    "#     break"
   ]
  },
  {
   "cell_type": "code",
   "execution_count": 6,
   "metadata": {},
   "outputs": [],
   "source": [
    "img=result_array\n",
    "\n",
    "roi = np.where(img > np.median(result_array) * 1.5)\n",
    "roi = list(roi)\n",
    "size = img.shape\n",
    "mask_binary_img = np.zeros(size)\n",
    "for x, y, z in zip(roi[0], roi[1], roi[2]):\n",
    "    mask_binary_img[x][y][z] = 1\n",
    "mask_binary_img = mask_binary_img.astype(dtype='int')"
   ]
  },
  {
   "cell_type": "code",
   "execution_count": 7,
   "metadata": {},
   "outputs": [
    {
     "data": {
      "text/plain": [
       "array([[[-0.18846793, -0.18846793, -0.18846793, ..., -0.18846793,\n",
       "         -0.18846793, -0.18846793],\n",
       "        [-0.18846793, -0.18846793, -0.18846793, ..., -0.18846793,\n",
       "         -0.18846793, -0.18846793],\n",
       "        [-0.18846793, -0.18846793, -0.18846793, ..., -0.18846793,\n",
       "         -0.18846793, -0.18846793],\n",
       "        ...,\n",
       "        [-0.18846793, -0.18846793, -0.18846793, ..., -0.18846793,\n",
       "         -0.18846793, -0.18846793],\n",
       "        [-0.18846793, -0.18846793, -0.18846793, ..., -0.18846793,\n",
       "         -0.18846793, -0.18846793],\n",
       "        [-0.18846793, -0.18846793, -0.18846793, ..., -0.18846793,\n",
       "         -0.18846793, -0.18846793]]])"
      ]
     },
     "execution_count": 7,
     "metadata": {},
     "output_type": "execute_result"
    }
   ],
   "source": [
    "(result_array - np.mean(result_array)) / np.std(result_array)"
   ]
  },
  {
   "cell_type": "code",
   "execution_count": 41,
   "metadata": {},
   "outputs": [
    {
     "data": {
      "text/plain": [
       "(1, 256, 256)"
      ]
     },
     "execution_count": 41,
     "metadata": {},
     "output_type": "execute_result"
    }
   ],
   "source": [
    "mask_binary_img.shape"
   ]
  },
  {
   "cell_type": "code",
   "execution_count": 21,
   "metadata": {},
   "outputs": [
    {
     "data": {
      "text/plain": [
       "(1, 256, 256)"
      ]
     },
     "execution_count": 21,
     "metadata": {},
     "output_type": "execute_result"
    }
   ],
   "source": [
    "mask_binary_img.shape"
   ]
  },
  {
   "cell_type": "code",
   "execution_count": 31,
   "metadata": {},
   "outputs": [
    {
     "name": "stderr",
     "output_type": "stream",
     "text": [
      "/home/sangwook/anaconda3/envs/torch/lib/python3.6/site-packages/ipykernel_launcher.py:1: DeprecationWarning: `imsave` is deprecated!\n",
      "`imsave` is deprecated in SciPy 1.0.0, and will be removed in 1.2.0.\n",
      "Use ``imageio.imwrite`` instead.\n",
      "  \"\"\"Entry point for launching an IPython kernel.\n"
     ]
    }
   ],
   "source": [
    "scipy.misc.imsave('./test.jpg', mask_binary_img[0])"
   ]
  }
 ],
 "metadata": {
  "kernelspec": {
   "display_name": "Python 3",
   "language": "python",
   "name": "python3"
  },
  "language_info": {
   "codemirror_mode": {
    "name": "ipython",
    "version": 3
   },
   "file_extension": ".py",
   "mimetype": "text/x-python",
   "name": "python",
   "nbconvert_exporter": "python",
   "pygments_lexer": "ipython3",
   "version": "3.5.5"
  }
 },
 "nbformat": 4,
 "nbformat_minor": 2
}
